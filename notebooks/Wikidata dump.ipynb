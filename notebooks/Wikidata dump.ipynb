{
 "cells": [
  {
   "cell_type": "code",
   "execution_count": 16,
   "id": "10ec9677-67e7-4a3c-92b6-fa609f8e2ec5",
   "metadata": {},
   "outputs": [],
   "source": [
    "import time\n",
    "from qwikidata.entity import WikidataItem\n",
    "from qwikidata.json_dump import WikidataJsonDump\n",
    "from qwikidata.utils import dump_entities_to_json\n",
    "from IPython.display import JSON\n",
    "from pymongo import MongoClient\n",
    "from joblib import Parallel, delayed"
   ]
  },
  {
   "cell_type": "code",
   "execution_count": 22,
   "id": "d94f6c15-10dd-4a53-8668-3c92bea4ad82",
   "metadata": {},
   "outputs": [],
   "source": [
    "# create an instance of WikidataJsonDump\n",
    "wjd_dump_path = \"/storage/wikidata/wikidata-20220103-all.json.gz\"\n",
    "wjd = WikidataJsonDump(wjd_dump_path)\n"
   ]
  },
  {
   "cell_type": "code",
   "execution_count": 4,
   "id": "a852127c-17be-4173-8ab4-2301964ee0fc",
   "metadata": {},
   "outputs": [],
   "source": [
    "client = MongoClient()"
   ]
  },
  {
   "cell_type": "code",
   "execution_count": 5,
   "id": "f9601544-404c-4e43-8fb1-d1c5a4caec16",
   "metadata": {},
   "outputs": [],
   "source": [
    "#busco los ids de los que ya tengo para sacar los tipos de institución y luego hacer el corte\n",
    "kahi_wdata_cursor = client[\"kahi_dev\"][\"affiliations\"].find({\"external_ids.source\":\"wikidata\"},{\"_id\":0,\"external_ids\":1})\n",
    "kahi_wdata_ids=[]\n",
    "for i in kahi_wdata_cursor:\n",
    "    for j in i[\"external_ids\"]:\n",
    "        if j[\"source\"] == \"wikidata\":\n",
    "            kahi_wdata_ids.append(j[\"id\"])\n",
    "            break\n"
   ]
  },
  {
   "cell_type": "code",
   "execution_count": 26,
   "id": "574f9d6b-3c64-461f-9dbf-4c47ba6f0352",
   "metadata": {},
   "outputs": [
    {
     "data": {
      "text/plain": [
       "18825"
      ]
     },
     "execution_count": 26,
     "metadata": {},
     "output_type": "execute_result"
    }
   ],
   "source": [
    "kahi_wdata_ids=list(set(kahi_wdata_ids))\n",
    "len(kahi_wdata_ids)"
   ]
  },
  {
   "cell_type": "code",
   "execution_count": 27,
   "id": "4011181d-fc72-45c5-8f88-7b954470e3fc",
   "metadata": {},
   "outputs": [
    {
     "name": "stdout",
     "output_type": "stream",
     "text": [
      "CPU times: user 9h 24min 4s, sys: 1min 39s, total: 9h 25min 43s\n",
      "Wall time: 9h 26min 18s\n"
     ]
    }
   ],
   "source": [
    "%%time\n",
    "inst=[]\n",
    "# create an iterable of WikidataItem representing politicians\n",
    "for ii, entity_dict in enumerate(wjd):\n",
    "    if entity_dict[\"id\"] in kahi_wdata_ids:\n",
    "        inst.append(entity_dict)\n",
    "\n",
    "    if len(inst) == len(kahi_wdata_ids):\n",
    "        break\n"
   ]
  },
  {
   "cell_type": "code",
   "execution_count": 28,
   "id": "72e7906a-ecb3-4850-96df-d2cf34cfa20a",
   "metadata": {},
   "outputs": [
    {
     "data": {
      "text/plain": [
       "18606"
      ]
     },
     "execution_count": 28,
     "metadata": {},
     "output_type": "execute_result"
    }
   ],
   "source": [
    "len(inst)"
   ]
  },
  {
   "cell_type": "code",
   "execution_count": 17,
   "id": "4e60c824-6214-4772-9b0f-0a11e644f60c",
   "metadata": {},
   "outputs": [
    {
     "name": "stderr",
     "output_type": "stream",
     "text": [
      "[Parallel(n_jobs=20)]: Using backend MultiprocessingBackend with 20 concurrent workers.\n",
      "[Parallel(n_jobs=20)]: Done   1 tasks      | elapsed:  1.7min\n",
      "[Parallel(n_jobs=20)]: Done  10 tasks      | elapsed: 118.8min\n",
      "[Parallel(n_jobs=20)]: Done  21 tasks      | elapsed: 414.1min\n",
      "[Parallel(n_jobs=20)]: Done  32 tasks      | elapsed: 538.5min\n",
      "[Parallel(n_jobs=20)]: Done  45 tasks      | elapsed: 654.8min\n",
      "[Parallel(n_jobs=20)]: Done  58 tasks      | elapsed: 779.0min\n"
     ]
    },
    {
     "ename": "KeyboardInterrupt",
     "evalue": "",
     "output_type": "error",
     "traceback": [
      "\u001b[0;31m---------------------------------------------------------------------------\u001b[0m",
      "\u001b[0;31mKeyboardInterrupt\u001b[0m                         Traceback (most recent call last)",
      "Cell \u001b[0;32mIn[17], line 2\u001b[0m\n\u001b[1;32m      1\u001b[0m backend \u001b[38;5;241m=\u001b[39m \u001b[38;5;124m'\u001b[39m\u001b[38;5;124mmultiprocessing\u001b[39m\u001b[38;5;124m'\u001b[39m\n\u001b[0;32m----> 2\u001b[0m out \u001b[38;5;241m=\u001b[39m \u001b[43mParallel\u001b[49m\u001b[43m(\u001b[49m\u001b[43mn_jobs\u001b[49m\u001b[38;5;241;43m=\u001b[39;49m\u001b[38;5;241;43m20\u001b[39;49m\u001b[43m,\u001b[49m\u001b[43m \u001b[49m\u001b[43mbackend\u001b[49m\u001b[38;5;241;43m=\u001b[39;49m\u001b[43mbackend\u001b[49m\u001b[43m,\u001b[49m\u001b[43mverbose\u001b[49m\u001b[38;5;241;43m=\u001b[39;49m\u001b[38;5;241;43m10\u001b[39;49m\u001b[43m)\u001b[49m\u001b[43m(\u001b[49m\u001b[43mdelayed\u001b[49m\u001b[43m(\u001b[49m\u001b[43mprocess_one\u001b[49m\u001b[43m)\u001b[49m\u001b[43m(\u001b[49m\u001b[43mints\u001b[49m\u001b[43m)\u001b[49m\u001b[43m \u001b[49m\u001b[38;5;28;43;01mfor\u001b[39;49;00m\u001b[43m \u001b[49m\u001b[43mints\u001b[49m\u001b[43m \u001b[49m\u001b[38;5;129;43;01min\u001b[39;49;00m\u001b[43m \u001b[49m\u001b[43mkahi_wdata_ids\u001b[49m\u001b[43m)\u001b[49m\n",
      "File \u001b[0;32m~/.local/lib/python3.11/site-packages/joblib/parallel.py:1952\u001b[0m, in \u001b[0;36mParallel.__call__\u001b[0;34m(self, iterable)\u001b[0m\n\u001b[1;32m   1946\u001b[0m \u001b[38;5;66;03m# The first item from the output is blank, but it makes the interpreter\u001b[39;00m\n\u001b[1;32m   1947\u001b[0m \u001b[38;5;66;03m# progress until it enters the Try/Except block of the generator and\u001b[39;00m\n\u001b[1;32m   1948\u001b[0m \u001b[38;5;66;03m# reach the first `yield` statement. This starts the aynchronous\u001b[39;00m\n\u001b[1;32m   1949\u001b[0m \u001b[38;5;66;03m# dispatch of the tasks to the workers.\u001b[39;00m\n\u001b[1;32m   1950\u001b[0m \u001b[38;5;28mnext\u001b[39m(output)\n\u001b[0;32m-> 1952\u001b[0m \u001b[38;5;28;01mreturn\u001b[39;00m output \u001b[38;5;28;01mif\u001b[39;00m \u001b[38;5;28mself\u001b[39m\u001b[38;5;241m.\u001b[39mreturn_generator \u001b[38;5;28;01melse\u001b[39;00m \u001b[38;5;28;43mlist\u001b[39;49m\u001b[43m(\u001b[49m\u001b[43moutput\u001b[49m\u001b[43m)\u001b[49m\n",
      "File \u001b[0;32m~/.local/lib/python3.11/site-packages/joblib/parallel.py:1595\u001b[0m, in \u001b[0;36mParallel._get_outputs\u001b[0;34m(self, iterator, pre_dispatch)\u001b[0m\n\u001b[1;32m   1592\u001b[0m     \u001b[38;5;28;01myield\u001b[39;00m\n\u001b[1;32m   1594\u001b[0m     \u001b[38;5;28;01mwith\u001b[39;00m \u001b[38;5;28mself\u001b[39m\u001b[38;5;241m.\u001b[39m_backend\u001b[38;5;241m.\u001b[39mretrieval_context():\n\u001b[0;32m-> 1595\u001b[0m         \u001b[38;5;28;01myield from\u001b[39;00m \u001b[38;5;28mself\u001b[39m\u001b[38;5;241m.\u001b[39m_retrieve()\n\u001b[1;32m   1597\u001b[0m \u001b[38;5;28;01mexcept\u001b[39;00m \u001b[38;5;167;01mGeneratorExit\u001b[39;00m:\n\u001b[1;32m   1598\u001b[0m     \u001b[38;5;66;03m# The generator has been garbage collected before being fully\u001b[39;00m\n\u001b[1;32m   1599\u001b[0m     \u001b[38;5;66;03m# consumed. This aborts the remaining tasks if possible and warn\u001b[39;00m\n\u001b[1;32m   1600\u001b[0m     \u001b[38;5;66;03m# the user if necessary.\u001b[39;00m\n\u001b[1;32m   1601\u001b[0m     \u001b[38;5;28mself\u001b[39m\u001b[38;5;241m.\u001b[39m_exception \u001b[38;5;241m=\u001b[39m \u001b[38;5;28;01mTrue\u001b[39;00m\n",
      "File \u001b[0;32m~/.local/lib/python3.11/site-packages/joblib/parallel.py:1707\u001b[0m, in \u001b[0;36mParallel._retrieve\u001b[0;34m(self)\u001b[0m\n\u001b[1;32m   1702\u001b[0m \u001b[38;5;66;03m# If the next job is not ready for retrieval yet, we just wait for\u001b[39;00m\n\u001b[1;32m   1703\u001b[0m \u001b[38;5;66;03m# async callbacks to progress.\u001b[39;00m\n\u001b[1;32m   1704\u001b[0m \u001b[38;5;28;01mif\u001b[39;00m ((\u001b[38;5;28mlen\u001b[39m(\u001b[38;5;28mself\u001b[39m\u001b[38;5;241m.\u001b[39m_jobs) \u001b[38;5;241m==\u001b[39m \u001b[38;5;241m0\u001b[39m) \u001b[38;5;129;01mor\u001b[39;00m\n\u001b[1;32m   1705\u001b[0m     (\u001b[38;5;28mself\u001b[39m\u001b[38;5;241m.\u001b[39m_jobs[\u001b[38;5;241m0\u001b[39m]\u001b[38;5;241m.\u001b[39mget_status(\n\u001b[1;32m   1706\u001b[0m         timeout\u001b[38;5;241m=\u001b[39m\u001b[38;5;28mself\u001b[39m\u001b[38;5;241m.\u001b[39mtimeout) \u001b[38;5;241m==\u001b[39m TASK_PENDING)):\n\u001b[0;32m-> 1707\u001b[0m     time\u001b[38;5;241m.\u001b[39msleep(\u001b[38;5;241m0.01\u001b[39m)\n\u001b[1;32m   1708\u001b[0m     \u001b[38;5;28;01mcontinue\u001b[39;00m\n\u001b[1;32m   1710\u001b[0m \u001b[38;5;66;03m# We need to be careful: the job list can be filling up as\u001b[39;00m\n\u001b[1;32m   1711\u001b[0m \u001b[38;5;66;03m# we empty it and Python list are not thread-safe by\u001b[39;00m\n\u001b[1;32m   1712\u001b[0m \u001b[38;5;66;03m# default hence the use of the lock\u001b[39;00m\n",
      "\u001b[0;31mKeyboardInterrupt\u001b[0m: "
     ]
    }
   ],
   "source": [
    "backend = 'multiprocessing'\n",
    "out = Parallel(n_jobs=20, backend=backend,verbose=10)(delayed(process_one)(ints) for ints in kahi_wdata_ids)"
   ]
  },
  {
   "cell_type": "code",
   "execution_count": 16,
   "id": "f70d4bb8-6186-4b73-8925-1505eeb6d7d2",
   "metadata": {},
   "outputs": [
    {
     "data": {
      "text/plain": [
       "1"
      ]
     },
     "execution_count": 16,
     "metadata": {},
     "output_type": "execute_result"
    }
   ],
   "source": [
    "len(institutions)"
   ]
  },
  {
   "cell_type": "code",
   "execution_count": 17,
   "id": "f9914145-ca84-4787-b979-dda1cdb3a5fd",
   "metadata": {},
   "outputs": [
    {
     "data": {
      "application/json": [
       {
        "aliases": {
         "az": [
          {
           "language": "az",
           "value": "dövlət təhsil müəssisəsi"
          }
         ],
         "be-tarask": [
          {
           "language": "be-tarask",
           "value": "адукацыйная ўстанова"
          }
         ],
         "cs": [
          {
           "language": "cs",
           "value": "veřejná vzdělávací instituce"
          }
         ],
         "de": [
          {
           "language": "de",
           "value": "staatliche Bildungseinrichtung"
          }
         ],
         "es": [
          {
           "language": "es",
           "value": "institucion educativa publica"
          }
         ],
         "id": [
          {
           "language": "id",
           "value": "institusi pendidikan publik"
          }
         ],
         "ko": [
          {
           "language": "ko",
           "value": "공립 교육 기관"
          },
          {
           "language": "ko",
           "value": "공립교육기관"
          }
         ],
         "lv": [
          {
           "language": "lv",
           "value": "publiska izglītības iestāde"
          }
         ],
         "nl": [
          {
           "language": "nl",
           "value": "obs"
          },
          {
           "language": "nl",
           "value": "OBS"
          },
          {
           "language": "nl",
           "value": "openbare school"
          },
          {
           "language": "nl",
           "value": "openbare scholengemeenschap"
          },
          {
           "language": "nl",
           "value": "openbaar onderwijsinstelling"
          }
         ],
         "pl": [
          {
           "language": "pl",
           "value": "szkoła publiczna"
          },
          {
           "language": "pl",
           "value": "uczelnia publiczna"
          }
         ],
         "pt": [
          {
           "language": "pt",
           "value": "instituição educacional pública"
          },
          {
           "language": "pt",
           "value": "instituição de ensino público"
          },
          {
           "language": "pt",
           "value": "instituição pública educacional"
          },
          {
           "language": "pt",
           "value": "instituição pública de educação"
          }
         ],
         "vi": [
          {
           "language": "vi",
           "value": "trường công lập"
          },
          {
           "language": "vi",
           "value": "trường công"
          }
         ]
        },
        "claims": {
         "P2452": [
          {
           "id": "Q23002037$4b9e10dd-4424-e3cf-7db1-778de6e3048d",
           "mainsnak": {
            "datatype": "external-id",
            "datavalue": {
             "type": "string",
             "value": "S.SCH"
            },
            "property": "P2452",
            "snaktype": "value"
           },
           "rank": "normal",
           "type": "statement"
          }
         ],
         "P279": [
          {
           "id": "Q23002037$90e7b764-4a40-e044-b653-a75c954c4581",
           "mainsnak": {
            "datatype": "wikibase-item",
            "datavalue": {
             "type": "wikibase-entityid",
             "value": {
              "entity-type": "item",
              "id": "Q294163",
              "numeric-id": 294163
             }
            },
            "property": "P279",
            "snaktype": "value"
           },
           "rank": "normal",
           "type": "statement"
          },
          {
           "id": "Q23002037$2c5e11b8-4454-6375-8488-2c31b5e8290f",
           "mainsnak": {
            "datatype": "wikibase-item",
            "datavalue": {
             "type": "wikibase-entityid",
             "value": {
              "entity-type": "item",
              "id": "Q2385804",
              "numeric-id": 2385804
             }
            },
            "property": "P279",
            "snaktype": "value"
           },
           "rank": "normal",
           "type": "statement"
          }
         ],
         "P361": [
          {
           "id": "Q23002037$362cef84-4e33-899e-9467-45ba5789bd3f",
           "mainsnak": {
            "datatype": "wikibase-item",
            "datavalue": {
             "type": "wikibase-entityid",
             "value": {
              "entity-type": "item",
              "id": "Q12182551",
              "numeric-id": 12182551
             }
            },
            "property": "P361",
            "snaktype": "value"
           },
           "rank": "normal",
           "type": "statement"
          }
         ],
         "P461": [
          {
           "id": "Q23002037$b15ce29c-4f7d-3298-f17e-2edde761d8fb",
           "mainsnak": {
            "datatype": "wikibase-item",
            "datavalue": {
             "type": "wikibase-entityid",
             "value": {
              "entity-type": "item",
              "id": "Q23002042",
              "numeric-id": 23002042
             }
            },
            "property": "P461",
            "snaktype": "value"
           },
           "rank": "normal",
           "type": "statement"
          }
         ],
         "P8408": [
          {
           "id": "Q23002037$1C508ECB-3335-4BB8-B074-193F2DFD69CF",
           "mainsnak": {
            "datatype": "external-id",
            "datavalue": {
             "type": "string",
             "value": "PublicEducationInstitution"
            },
            "property": "P8408",
            "snaktype": "value"
           },
           "rank": "normal",
           "references": [
            {
             "hash": "9a681f9dd95c90224547c404e11295f4f7dcf54e",
             "snaks": {
              "P248": [
               {
                "datatype": "wikibase-item",
                "datavalue": {
                 "type": "wikibase-entityid",
                 "value": {
                  "entity-type": "item",
                  "id": "Q64139102",
                  "numeric-id": 64139102
                 }
                },
                "property": "P248",
                "snaktype": "value"
               }
              ],
              "P813": [
               {
                "datatype": "time",
                "datavalue": {
                 "type": "time",
                 "value": {
                  "after": 0,
                  "before": 0,
                  "calendarmodel": "http://www.wikidata.org/entity/Q1985727",
                  "precision": 11,
                  "time": "+2020-07-09T00:00:00Z",
                  "timezone": 0
                 }
                },
                "property": "P813",
                "snaktype": "value"
               }
              ]
             },
             "snaks-order": [
              "P248",
              "P813"
             ]
            }
           ],
           "type": "statement"
          }
         ]
        },
        "descriptions": {
         "bn": {
          "language": "bn",
          "value": "মূলত সরকারি অর্থায়নে ও সরকার দ্বারা নির্বাচিত বা নিযুক্ত শিক্ষা কর্মকর্তা দ্বারা পরিচালিত শিক্ষা প্রতিষ্ঠান"
         },
         "ca": {
          "language": "ca",
          "value": "institució educativa amb programes i activitats operades públicament"
         },
         "en": {
          "language": "en",
          "value": "educational institution whose programs and activities are operated by publicly elected or appointed school officials and which is supported primarily by public funds"
         },
         "eu": {
          "language": "eu",
          "value": "hezkuntza-erakunde honen programak eta jarduerak era publikoan kudeatzen dira"
         },
         "gl": {
          "language": "gl",
          "value": "institución educativa con programas e actividades operadas por organismos públicos"
         },
         "nl": {
          "language": "nl",
          "value": "instelling met openbaar onderwijs"
         },
         "pl": {
          "language": "pl",
          "value": "instytucja edukacyjna finansowana głównie ze środków publicznych"
         }
        },
        "id": "Q23002037",
        "labels": {
         "az": {
          "language": "az",
          "value": "ictimai təhsil müəssisəsi"
         },
         "be-tarask": {
          "language": "be-tarask",
          "value": "установа грамадзкай адукацыі"
         },
         "bn": {
          "language": "bn",
          "value": "সরকারি শিক্ষা প্রতিষ্ঠান"
         },
         "ca": {
          "language": "ca",
          "value": "institució educativa pública"
         },
         "cs": {
          "language": "cs",
          "value": "veřejné vzdělávací zařízení"
         },
         "cy": {
          "language": "cy",
          "value": "sefydliad addysgiadol cyhoeddus"
         },
         "da": {
          "language": "da",
          "value": "offentlig uddannelsesinstitution"
         },
         "de": {
          "language": "de",
          "value": "öffentliche Bildungseinrichtung"
         },
         "el": {
          "language": "el",
          "value": "δημόσιο εκπαιδευτικό ίδρυμα"
         },
         "en": {
          "language": "en",
          "value": "public educational institution"
         },
         "eo": {
          "language": "eo",
          "value": "publika eduka institucio"
         },
         "es": {
          "language": "es",
          "value": "institución educativa pública"
         },
         "eu": {
          "language": "eu",
          "value": "hezkuntza-erakunde publikoa"
         },
         "fa": {
          "language": "fa",
          "value": "آموزشگاه عمومی"
         },
         "fi": {
          "language": "fi",
          "value": "julkinen oppilaitos"
         },
         "fr": {
          "language": "fr",
          "value": "institution éducative publique"
         },
         "gl": {
          "language": "gl",
          "value": "institución educativa pública"
         },
         "hu": {
          "language": "hu",
          "value": "köz-oktatásiintézmény"
         },
         "id": {
          "language": "id",
          "value": "lembaga pendidikan publik"
         },
         "ja": {
          "language": "ja",
          "value": "公立教育機関"
         },
         "ka": {
          "language": "ka",
          "value": "საჯარო საგანმანათლებლო დაწესებულება"
         },
         "ko": {
          "language": "ko",
          "value": "공립 교육기관"
         },
         "lv": {
          "language": "lv",
          "value": "publiska mācību iestāde"
         },
         "mk": {
          "language": "mk",
          "value": "јавна образовна установа"
         },
         "ms": {
          "language": "ms",
          "value": "institusi pendidikan awam"
         },
         "nb": {
          "language": "nb",
          "value": "offentlig utdanningsinstitusjon"
         },
         "nl": {
          "language": "nl",
          "value": "openbare onderwijsinstelling"
         },
         "nn": {
          "language": "nn",
          "value": "offentleg utdanningsinstitusjon"
         },
         "pl": {
          "language": "pl",
          "value": "publiczna instytucja edukacyjna"
         },
         "pt": {
          "language": "pt",
          "value": "instituição de educação pública"
         },
         "ro": {
          "language": "ro",
          "value": "instituție publică de educație"
         },
         "ru": {
          "language": "ru",
          "value": "общественное образовательное учреждение"
         },
         "sk": {
          "language": "sk",
          "value": "verejná vzdelávacia inštitúcia"
         },
         "sr": {
          "language": "sr",
          "value": "јавна образовна установа"
         },
         "ta": {
          "language": "ta",
          "value": "பொது கல்வி நிலையம்"
         },
         "ur": {
          "language": "ur",
          "value": "عوامی تعلیمی ادارہ"
         },
         "vi": {
          "language": "vi",
          "value": "cơ sở giáo dục công lập"
         },
         "zh": {
          "language": "zh",
          "value": "公立教育机构"
         },
         "zh-cn": {
          "language": "zh-cn",
          "value": "公立教育机构"
         },
         "zh-hant": {
          "language": "zh-hant",
          "value": "公立教育機構"
         }
        },
        "lastrevid": 1519784664,
        "sitelinks": {},
        "type": "item"
       }
      ],
      "text/plain": [
       "<IPython.core.display.JSON object>"
      ]
     },
     "execution_count": 17,
     "metadata": {
      "application/json": {
       "expanded": false,
       "root": "root"
      }
     },
     "output_type": "execute_result"
    }
   ],
   "source": [
    "JSON(institutions)"
   ]
  },
  {
   "cell_type": "code",
   "execution_count": null,
   "id": "376c05dc-a5af-4be9-b0cc-19f40e3656ce",
   "metadata": {},
   "outputs": [],
   "source": []
  }
 ],
 "metadata": {
  "kernelspec": {
   "display_name": "Python 3 (ipykernel)",
   "language": "python",
   "name": "python3"
  },
  "language_info": {
   "codemirror_mode": {
    "name": "ipython",
    "version": 3
   },
   "file_extension": ".py",
   "mimetype": "text/x-python",
   "name": "python",
   "nbconvert_exporter": "python",
   "pygments_lexer": "ipython3",
   "version": "3.11.6"
  }
 },
 "nbformat": 4,
 "nbformat_minor": 5
}
